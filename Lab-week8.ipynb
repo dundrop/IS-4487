{
  "nbformat": 4,
  "nbformat_minor": 0,
  "metadata": {
    "colab": {
      "provenance": [],
      "include_colab_link": true
    },
    "kernelspec": {
      "name": "python3",
      "display_name": "Python 3"
    },
    "language_info": {
      "name": "python"
    }
  },
  "cells": [
    {
      "cell_type": "markdown",
      "metadata": {
        "id": "view-in-github",
        "colab_type": "text"
      },
      "source": [
        "<a href=\"https://colab.research.google.com/github/dundrop/IS-4487/blob/main/Lab-week8.ipynb\" target=\"_parent\"><img src=\"https://colab.research.google.com/assets/colab-badge.svg\" alt=\"Open In Colab\"/></a>"
      ]
    },
    {
      "cell_type": "markdown",
      "metadata": {
        "id": "p_Yu45OYdj3Y"
      },
      "source": [
        "# IS 4487 Module 4 Script\n",
        "\n",
        "## Objectives\n",
        "\n",
        "*   Deal with nulls\n",
        "*   Standardize/transform attributes\n",
        "*   Convert attributes to factors (categories)\n",
        "*   Encode attributes"
      ]
    },
    {
      "cell_type": "markdown",
      "metadata": {
        "id": "UE93RwXhgiJS"
      },
      "source": [
        "##Load Libraries\n",
        "\n",
        "In this class we will be using \n",
        "- Pandas\n",
        "- Scikitlearn\n",
        "- Matplotlib\n"
      ]
    },
    {
      "cell_type": "code",
      "metadata": {
        "id": "JYRZY5n0gfNe"
      },
      "source": [
        "import pandas as pd\n",
        "import matplotlib as mpl\n",
        "import numpy as np\n",
        "\n",
        "from sklearn.tree import DecisionTreeClassifier, export_graphviz # Import Decision Tree Classifier\n",
        "from sklearn.model_selection import train_test_split # Import train_test_split function\n",
        "from sklearn import metrics #Import scikit-learn metrics module for accuracy calculation\n",
        "from sklearn import tree\n"
      ],
      "execution_count": 1,
      "outputs": []
    },
    {
      "cell_type": "code",
      "source": [
        "from google.colab import drive\n",
        "drive.mount('/content/drive')"
      ],
      "metadata": {
        "colab": {
          "base_uri": "https://localhost:8080/"
        },
        "id": "41ALPG2QbANz",
        "outputId": "c654cdca-8a06-4e2e-a95f-effbcd696a6b"
      },
      "execution_count": 2,
      "outputs": [
        {
          "output_type": "stream",
          "name": "stdout",
          "text": [
            "Mounted at /content/drive\n"
          ]
        }
      ]
    },
    {
      "cell_type": "markdown",
      "metadata": {
        "id": "bREaXo8jfu-O"
      },
      "source": [
        "## Getting data into Pandas\n",
        "\n",
        "In this case we will load data from the statsmodels.org library\n",
        "\n",
        "See the Canvas assignments and lectures for a description of the Megatelco data\n",
        "\n",
        "**Note:** you will need to enter a code supplied by Google in the next step. \n"
      ]
    },
    {
      "cell_type": "code",
      "metadata": {
        "id": "6_FwprxVgR0e",
        "colab": {
          "base_uri": "https://localhost:8080/"
        },
        "outputId": "54daaed7-af12-406d-fab1-bb44b9f55d18"
      },
      "source": [
        "from google.colab import drive \n",
        "drive.mount('/content/gdrive', force_remount=True)\n",
        "\n",
        "df = pd.read_csv (r'/content/gdrive/MyDrive/Colab Notebooks/retail_dataset.csv')"
      ],
      "execution_count": 3,
      "outputs": [
        {
          "output_type": "stream",
          "name": "stdout",
          "text": [
            "Mounted at /content/gdrive\n"
          ]
        }
      ]
    },
    {
      "cell_type": "code",
      "metadata": {
        "id": "gSvao0dlhlNn",
        "colab": {
          "base_uri": "https://localhost:8080/",
          "height": 583
        },
        "outputId": "9a3a2edf-a81b-4786-862f-20859d13e7ce"
      },
      "source": [
        "#look at the top rows\n",
        "df.head(10) "
      ],
      "execution_count": 4,
      "outputs": [
        {
          "output_type": "execute_result",
          "data": {
            "text/plain": [
              "   customer_id      customer_name        address_line_1        city  \\\n",
              "0           67      Gordy Matteau   59 Northland Circle  Wilmington   \n",
              "1          201     Cort Paskerful       769 Buell Drive  Huntsville   \n",
              "2           45    Willetta Lumley     41 Ridgeway Alley      Irvine   \n",
              "3          106   Alison Batterton         489 Erie Hill    Richmond   \n",
              "4          357  Martelle Paxeford  451 Manitowish Place    Richmond   \n",
              "5          351      Glenn Reville    3 Springview Drive      Dallas   \n",
              "6          233  Cosette Berkowitz       7619 Susan Lane  South Bend   \n",
              "7          121      Nisse Cunniam         0 Dennis Pass     Lincoln   \n",
              "8          232         Yank Eayrs       8176 Lawn Drive  Washington   \n",
              "9          113   Jamesy Brothwood   0693 Evergreen Pass    Scranton   \n",
              "\n",
              "              state_province  postal_code  order_id  order_date  \\\n",
              "0  DE                             19805.0      1001  2020-01-11   \n",
              "1  AL                             35810.0      1002  2019-11-22   \n",
              "2  CA                             92612.0      1003  2019-09-17   \n",
              "3  VA                             23293.0      1004  2019-12-09   \n",
              "4  VA                             23293.0      1005  2019-06-08   \n",
              "5  TX                             75277.0      1006  2020-02-18   \n",
              "6  IN                             46634.0      1007  2019-10-25   \n",
              "7  NE                             68531.0      1008  2019-11-10   \n",
              "8  DC                             20575.0      1009  2019-09-27   \n",
              "9  PA                             18514.0      1010  2019-09-02   \n",
              "\n",
              "   customer_id.1  order_id.1  product_id  quantity  product_id.1  \\\n",
              "0             67        1001         106       3.0           106   \n",
              "1            201        1002         104       2.0           104   \n",
              "2             45        1003         107       5.0           107   \n",
              "3            106        1004         106       8.0           106   \n",
              "4            357        1005         107       7.0           107   \n",
              "5            351        1006         106       4.0           106   \n",
              "6            233        1007         105       2.0           105   \n",
              "7            121        1008         101       1.0           101   \n",
              "8            232        1009         110       1.0           110   \n",
              "9            113        1010         108       1.0           108   \n",
              "\n",
              "        product_name product_price total_amount order_year_month order_month  \n",
              "0  Great value Juice         $1.99        $5.97          2020-01   January    \n",
              "1               Desk        $85.98      $171.96          2019-11   November   \n",
              "2     Dove deodorant         $3.99       $19.95          2019-09   September  \n",
              "3  Great value Juice         $1.99       $15.92          2019-12   December   \n",
              "4     Dove deodorant         $3.99       $27.93          2019-06   June       \n",
              "5  Great value Juice         $1.99        $7.96          2020-02   February   \n",
              "6       Office Chair        $55.99      $111.98          2019-10   October    \n",
              "7  Dell E5470 Laptop       $485.00      $485.00          2019-11   November   \n",
              "8    Apple iPad Mini       $329.99      $329.99          2019-09   September  \n",
              "9            Printer        $59.99       $59.99          2019-09   September  "
            ],
            "text/html": [
              "\n",
              "  <div id=\"df-3c1b6e3c-62c6-4740-83d9-acf4a0c9e4a6\">\n",
              "    <div class=\"colab-df-container\">\n",
              "      <div>\n",
              "<style scoped>\n",
              "    .dataframe tbody tr th:only-of-type {\n",
              "        vertical-align: middle;\n",
              "    }\n",
              "\n",
              "    .dataframe tbody tr th {\n",
              "        vertical-align: top;\n",
              "    }\n",
              "\n",
              "    .dataframe thead th {\n",
              "        text-align: right;\n",
              "    }\n",
              "</style>\n",
              "<table border=\"1\" class=\"dataframe\">\n",
              "  <thead>\n",
              "    <tr style=\"text-align: right;\">\n",
              "      <th></th>\n",
              "      <th>customer_id</th>\n",
              "      <th>customer_name</th>\n",
              "      <th>address_line_1</th>\n",
              "      <th>city</th>\n",
              "      <th>state_province</th>\n",
              "      <th>postal_code</th>\n",
              "      <th>order_id</th>\n",
              "      <th>order_date</th>\n",
              "      <th>customer_id.1</th>\n",
              "      <th>order_id.1</th>\n",
              "      <th>product_id</th>\n",
              "      <th>quantity</th>\n",
              "      <th>product_id.1</th>\n",
              "      <th>product_name</th>\n",
              "      <th>product_price</th>\n",
              "      <th>total_amount</th>\n",
              "      <th>order_year_month</th>\n",
              "      <th>order_month</th>\n",
              "    </tr>\n",
              "  </thead>\n",
              "  <tbody>\n",
              "    <tr>\n",
              "      <th>0</th>\n",
              "      <td>67</td>\n",
              "      <td>Gordy Matteau</td>\n",
              "      <td>59 Northland Circle</td>\n",
              "      <td>Wilmington</td>\n",
              "      <td>DE</td>\n",
              "      <td>19805.0</td>\n",
              "      <td>1001</td>\n",
              "      <td>2020-01-11</td>\n",
              "      <td>67</td>\n",
              "      <td>1001</td>\n",
              "      <td>106</td>\n",
              "      <td>3.0</td>\n",
              "      <td>106</td>\n",
              "      <td>Great value Juice</td>\n",
              "      <td>$1.99</td>\n",
              "      <td>$5.97</td>\n",
              "      <td>2020-01</td>\n",
              "      <td>January</td>\n",
              "    </tr>\n",
              "    <tr>\n",
              "      <th>1</th>\n",
              "      <td>201</td>\n",
              "      <td>Cort Paskerful</td>\n",
              "      <td>769 Buell Drive</td>\n",
              "      <td>Huntsville</td>\n",
              "      <td>AL</td>\n",
              "      <td>35810.0</td>\n",
              "      <td>1002</td>\n",
              "      <td>2019-11-22</td>\n",
              "      <td>201</td>\n",
              "      <td>1002</td>\n",
              "      <td>104</td>\n",
              "      <td>2.0</td>\n",
              "      <td>104</td>\n",
              "      <td>Desk</td>\n",
              "      <td>$85.98</td>\n",
              "      <td>$171.96</td>\n",
              "      <td>2019-11</td>\n",
              "      <td>November</td>\n",
              "    </tr>\n",
              "    <tr>\n",
              "      <th>2</th>\n",
              "      <td>45</td>\n",
              "      <td>Willetta Lumley</td>\n",
              "      <td>41 Ridgeway Alley</td>\n",
              "      <td>Irvine</td>\n",
              "      <td>CA</td>\n",
              "      <td>92612.0</td>\n",
              "      <td>1003</td>\n",
              "      <td>2019-09-17</td>\n",
              "      <td>45</td>\n",
              "      <td>1003</td>\n",
              "      <td>107</td>\n",
              "      <td>5.0</td>\n",
              "      <td>107</td>\n",
              "      <td>Dove deodorant</td>\n",
              "      <td>$3.99</td>\n",
              "      <td>$19.95</td>\n",
              "      <td>2019-09</td>\n",
              "      <td>September</td>\n",
              "    </tr>\n",
              "    <tr>\n",
              "      <th>3</th>\n",
              "      <td>106</td>\n",
              "      <td>Alison Batterton</td>\n",
              "      <td>489 Erie Hill</td>\n",
              "      <td>Richmond</td>\n",
              "      <td>VA</td>\n",
              "      <td>23293.0</td>\n",
              "      <td>1004</td>\n",
              "      <td>2019-12-09</td>\n",
              "      <td>106</td>\n",
              "      <td>1004</td>\n",
              "      <td>106</td>\n",
              "      <td>8.0</td>\n",
              "      <td>106</td>\n",
              "      <td>Great value Juice</td>\n",
              "      <td>$1.99</td>\n",
              "      <td>$15.92</td>\n",
              "      <td>2019-12</td>\n",
              "      <td>December</td>\n",
              "    </tr>\n",
              "    <tr>\n",
              "      <th>4</th>\n",
              "      <td>357</td>\n",
              "      <td>Martelle Paxeford</td>\n",
              "      <td>451 Manitowish Place</td>\n",
              "      <td>Richmond</td>\n",
              "      <td>VA</td>\n",
              "      <td>23293.0</td>\n",
              "      <td>1005</td>\n",
              "      <td>2019-06-08</td>\n",
              "      <td>357</td>\n",
              "      <td>1005</td>\n",
              "      <td>107</td>\n",
              "      <td>7.0</td>\n",
              "      <td>107</td>\n",
              "      <td>Dove deodorant</td>\n",
              "      <td>$3.99</td>\n",
              "      <td>$27.93</td>\n",
              "      <td>2019-06</td>\n",
              "      <td>June</td>\n",
              "    </tr>\n",
              "    <tr>\n",
              "      <th>5</th>\n",
              "      <td>351</td>\n",
              "      <td>Glenn Reville</td>\n",
              "      <td>3 Springview Drive</td>\n",
              "      <td>Dallas</td>\n",
              "      <td>TX</td>\n",
              "      <td>75277.0</td>\n",
              "      <td>1006</td>\n",
              "      <td>2020-02-18</td>\n",
              "      <td>351</td>\n",
              "      <td>1006</td>\n",
              "      <td>106</td>\n",
              "      <td>4.0</td>\n",
              "      <td>106</td>\n",
              "      <td>Great value Juice</td>\n",
              "      <td>$1.99</td>\n",
              "      <td>$7.96</td>\n",
              "      <td>2020-02</td>\n",
              "      <td>February</td>\n",
              "    </tr>\n",
              "    <tr>\n",
              "      <th>6</th>\n",
              "      <td>233</td>\n",
              "      <td>Cosette Berkowitz</td>\n",
              "      <td>7619 Susan Lane</td>\n",
              "      <td>South Bend</td>\n",
              "      <td>IN</td>\n",
              "      <td>46634.0</td>\n",
              "      <td>1007</td>\n",
              "      <td>2019-10-25</td>\n",
              "      <td>233</td>\n",
              "      <td>1007</td>\n",
              "      <td>105</td>\n",
              "      <td>2.0</td>\n",
              "      <td>105</td>\n",
              "      <td>Office Chair</td>\n",
              "      <td>$55.99</td>\n",
              "      <td>$111.98</td>\n",
              "      <td>2019-10</td>\n",
              "      <td>October</td>\n",
              "    </tr>\n",
              "    <tr>\n",
              "      <th>7</th>\n",
              "      <td>121</td>\n",
              "      <td>Nisse Cunniam</td>\n",
              "      <td>0 Dennis Pass</td>\n",
              "      <td>Lincoln</td>\n",
              "      <td>NE</td>\n",
              "      <td>68531.0</td>\n",
              "      <td>1008</td>\n",
              "      <td>2019-11-10</td>\n",
              "      <td>121</td>\n",
              "      <td>1008</td>\n",
              "      <td>101</td>\n",
              "      <td>1.0</td>\n",
              "      <td>101</td>\n",
              "      <td>Dell E5470 Laptop</td>\n",
              "      <td>$485.00</td>\n",
              "      <td>$485.00</td>\n",
              "      <td>2019-11</td>\n",
              "      <td>November</td>\n",
              "    </tr>\n",
              "    <tr>\n",
              "      <th>8</th>\n",
              "      <td>232</td>\n",
              "      <td>Yank Eayrs</td>\n",
              "      <td>8176 Lawn Drive</td>\n",
              "      <td>Washington</td>\n",
              "      <td>DC</td>\n",
              "      <td>20575.0</td>\n",
              "      <td>1009</td>\n",
              "      <td>2019-09-27</td>\n",
              "      <td>232</td>\n",
              "      <td>1009</td>\n",
              "      <td>110</td>\n",
              "      <td>1.0</td>\n",
              "      <td>110</td>\n",
              "      <td>Apple iPad Mini</td>\n",
              "      <td>$329.99</td>\n",
              "      <td>$329.99</td>\n",
              "      <td>2019-09</td>\n",
              "      <td>September</td>\n",
              "    </tr>\n",
              "    <tr>\n",
              "      <th>9</th>\n",
              "      <td>113</td>\n",
              "      <td>Jamesy Brothwood</td>\n",
              "      <td>0693 Evergreen Pass</td>\n",
              "      <td>Scranton</td>\n",
              "      <td>PA</td>\n",
              "      <td>18514.0</td>\n",
              "      <td>1010</td>\n",
              "      <td>2019-09-02</td>\n",
              "      <td>113</td>\n",
              "      <td>1010</td>\n",
              "      <td>108</td>\n",
              "      <td>1.0</td>\n",
              "      <td>108</td>\n",
              "      <td>Printer</td>\n",
              "      <td>$59.99</td>\n",
              "      <td>$59.99</td>\n",
              "      <td>2019-09</td>\n",
              "      <td>September</td>\n",
              "    </tr>\n",
              "  </tbody>\n",
              "</table>\n",
              "</div>\n",
              "      <button class=\"colab-df-convert\" onclick=\"convertToInteractive('df-3c1b6e3c-62c6-4740-83d9-acf4a0c9e4a6')\"\n",
              "              title=\"Convert this dataframe to an interactive table.\"\n",
              "              style=\"display:none;\">\n",
              "        \n",
              "  <svg xmlns=\"http://www.w3.org/2000/svg\" height=\"24px\"viewBox=\"0 0 24 24\"\n",
              "       width=\"24px\">\n",
              "    <path d=\"M0 0h24v24H0V0z\" fill=\"none\"/>\n",
              "    <path d=\"M18.56 5.44l.94 2.06.94-2.06 2.06-.94-2.06-.94-.94-2.06-.94 2.06-2.06.94zm-11 1L8.5 8.5l.94-2.06 2.06-.94-2.06-.94L8.5 2.5l-.94 2.06-2.06.94zm10 10l.94 2.06.94-2.06 2.06-.94-2.06-.94-.94-2.06-.94 2.06-2.06.94z\"/><path d=\"M17.41 7.96l-1.37-1.37c-.4-.4-.92-.59-1.43-.59-.52 0-1.04.2-1.43.59L10.3 9.45l-7.72 7.72c-.78.78-.78 2.05 0 2.83L4 21.41c.39.39.9.59 1.41.59.51 0 1.02-.2 1.41-.59l7.78-7.78 2.81-2.81c.8-.78.8-2.07 0-2.86zM5.41 20L4 18.59l7.72-7.72 1.47 1.35L5.41 20z\"/>\n",
              "  </svg>\n",
              "      </button>\n",
              "      \n",
              "  <style>\n",
              "    .colab-df-container {\n",
              "      display:flex;\n",
              "      flex-wrap:wrap;\n",
              "      gap: 12px;\n",
              "    }\n",
              "\n",
              "    .colab-df-convert {\n",
              "      background-color: #E8F0FE;\n",
              "      border: none;\n",
              "      border-radius: 50%;\n",
              "      cursor: pointer;\n",
              "      display: none;\n",
              "      fill: #1967D2;\n",
              "      height: 32px;\n",
              "      padding: 0 0 0 0;\n",
              "      width: 32px;\n",
              "    }\n",
              "\n",
              "    .colab-df-convert:hover {\n",
              "      background-color: #E2EBFA;\n",
              "      box-shadow: 0px 1px 2px rgba(60, 64, 67, 0.3), 0px 1px 3px 1px rgba(60, 64, 67, 0.15);\n",
              "      fill: #174EA6;\n",
              "    }\n",
              "\n",
              "    [theme=dark] .colab-df-convert {\n",
              "      background-color: #3B4455;\n",
              "      fill: #D2E3FC;\n",
              "    }\n",
              "\n",
              "    [theme=dark] .colab-df-convert:hover {\n",
              "      background-color: #434B5C;\n",
              "      box-shadow: 0px 1px 3px 1px rgba(0, 0, 0, 0.15);\n",
              "      filter: drop-shadow(0px 1px 2px rgba(0, 0, 0, 0.3));\n",
              "      fill: #FFFFFF;\n",
              "    }\n",
              "  </style>\n",
              "\n",
              "      <script>\n",
              "        const buttonEl =\n",
              "          document.querySelector('#df-3c1b6e3c-62c6-4740-83d9-acf4a0c9e4a6 button.colab-df-convert');\n",
              "        buttonEl.style.display =\n",
              "          google.colab.kernel.accessAllowed ? 'block' : 'none';\n",
              "\n",
              "        async function convertToInteractive(key) {\n",
              "          const element = document.querySelector('#df-3c1b6e3c-62c6-4740-83d9-acf4a0c9e4a6');\n",
              "          const dataTable =\n",
              "            await google.colab.kernel.invokeFunction('convertToInteractive',\n",
              "                                                     [key], {});\n",
              "          if (!dataTable) return;\n",
              "\n",
              "          const docLinkHtml = 'Like what you see? Visit the ' +\n",
              "            '<a target=\"_blank\" href=https://colab.research.google.com/notebooks/data_table.ipynb>data table notebook</a>'\n",
              "            + ' to learn more about interactive tables.';\n",
              "          element.innerHTML = '';\n",
              "          dataTable['output_type'] = 'display_data';\n",
              "          await google.colab.output.renderOutput(dataTable, element);\n",
              "          const docLink = document.createElement('div');\n",
              "          docLink.innerHTML = docLinkHtml;\n",
              "          element.appendChild(docLink);\n",
              "        }\n",
              "      </script>\n",
              "    </div>\n",
              "  </div>\n",
              "  "
            ]
          },
          "metadata": {},
          "execution_count": 4
        }
      ]
    },
    {
      "cell_type": "code",
      "metadata": {
        "id": "AK7y336xJ3-6",
        "colab": {
          "base_uri": "https://localhost:8080/"
        },
        "outputId": "e1db187a-939f-4223-e5d6-10d8aff617d8"
      },
      "source": [
        "#look at the datatypes\n",
        "df.info()"
      ],
      "execution_count": 5,
      "outputs": [
        {
          "output_type": "stream",
          "name": "stdout",
          "text": [
            "<class 'pandas.core.frame.DataFrame'>\n",
            "RangeIndex: 9569 entries, 0 to 9568\n",
            "Data columns (total 18 columns):\n",
            " #   Column            Non-Null Count  Dtype  \n",
            "---  ------            --------------  -----  \n",
            " 0   customer_id       9569 non-null   int64  \n",
            " 1   customer_name     9569 non-null   object \n",
            " 2   address_line_1    9448 non-null   object \n",
            " 3   city              9516 non-null   object \n",
            " 4   state_province    9569 non-null   object \n",
            " 5   postal_code       9416 non-null   float64\n",
            " 6   order_id          9569 non-null   int64  \n",
            " 7   order_date        9312 non-null   object \n",
            " 8   customer_id.1     9569 non-null   int64  \n",
            " 9   order_id.1        9569 non-null   int64  \n",
            " 10  product_id        9569 non-null   int64  \n",
            " 11  quantity          9513 non-null   float64\n",
            " 12  product_id.1      9569 non-null   int64  \n",
            " 13  product_name      9569 non-null   object \n",
            " 14  product_price     9569 non-null   object \n",
            " 15  total_amount      9513 non-null   object \n",
            " 16  order_year_month  9312 non-null   object \n",
            " 17  order_month       9312 non-null   object \n",
            "dtypes: float64(2), int64(6), object(10)\n",
            "memory usage: 1.3+ MB\n"
          ]
        }
      ]
    },
    {
      "cell_type": "code",
      "metadata": {
        "id": "udYgkb6I3SJo",
        "colab": {
          "base_uri": "https://localhost:8080/",
          "height": 300
        },
        "outputId": "f4054160-4a86-4845-beb5-484bc1adcacf"
      },
      "source": [
        "#describe the data before cleaning it\n",
        "df.describe()"
      ],
      "execution_count": 6,
      "outputs": [
        {
          "output_type": "execute_result",
          "data": {
            "text/plain": [
              "       customer_id   postal_code     order_id  customer_id.1   order_id.1  \\\n",
              "count  9569.000000   9416.000000  9569.000000    9569.000000  9569.000000   \n",
              "mean    282.910962  52225.007116  5107.539450     282.910962  5107.539450   \n",
              "std     199.763947  29619.544418  2043.449403     199.763947  2043.449403   \n",
              "min       1.000000   1105.000000  1001.000000       1.000000  1001.000000   \n",
              "25%     127.000000  27409.000000  3393.000000     127.000000  3393.000000   \n",
              "50%     253.000000  48295.000000  5577.000000     253.000000  5577.000000   \n",
              "75%     376.000000  79923.000000  6829.000000     376.000000  6829.000000   \n",
              "max     800.000000  99812.000000  8147.000000     800.000000  8147.000000   \n",
              "\n",
              "        product_id     quantity  product_id.1  \n",
              "count  9569.000000  9513.000000   9569.000000  \n",
              "mean    106.736650     3.453380    106.736650  \n",
              "std       3.694805     4.393894      3.694805  \n",
              "min     101.000000     1.000000    101.000000  \n",
              "25%     104.000000     1.000000    104.000000  \n",
              "50%     107.000000     1.000000    107.000000  \n",
              "75%     110.000000     4.000000    110.000000  \n",
              "max     114.000000    20.000000    114.000000  "
            ],
            "text/html": [
              "\n",
              "  <div id=\"df-a9a589f7-8a69-4c62-8f28-8dfa3856acd9\">\n",
              "    <div class=\"colab-df-container\">\n",
              "      <div>\n",
              "<style scoped>\n",
              "    .dataframe tbody tr th:only-of-type {\n",
              "        vertical-align: middle;\n",
              "    }\n",
              "\n",
              "    .dataframe tbody tr th {\n",
              "        vertical-align: top;\n",
              "    }\n",
              "\n",
              "    .dataframe thead th {\n",
              "        text-align: right;\n",
              "    }\n",
              "</style>\n",
              "<table border=\"1\" class=\"dataframe\">\n",
              "  <thead>\n",
              "    <tr style=\"text-align: right;\">\n",
              "      <th></th>\n",
              "      <th>customer_id</th>\n",
              "      <th>postal_code</th>\n",
              "      <th>order_id</th>\n",
              "      <th>customer_id.1</th>\n",
              "      <th>order_id.1</th>\n",
              "      <th>product_id</th>\n",
              "      <th>quantity</th>\n",
              "      <th>product_id.1</th>\n",
              "    </tr>\n",
              "  </thead>\n",
              "  <tbody>\n",
              "    <tr>\n",
              "      <th>count</th>\n",
              "      <td>9569.000000</td>\n",
              "      <td>9416.000000</td>\n",
              "      <td>9569.000000</td>\n",
              "      <td>9569.000000</td>\n",
              "      <td>9569.000000</td>\n",
              "      <td>9569.000000</td>\n",
              "      <td>9513.000000</td>\n",
              "      <td>9569.000000</td>\n",
              "    </tr>\n",
              "    <tr>\n",
              "      <th>mean</th>\n",
              "      <td>282.910962</td>\n",
              "      <td>52225.007116</td>\n",
              "      <td>5107.539450</td>\n",
              "      <td>282.910962</td>\n",
              "      <td>5107.539450</td>\n",
              "      <td>106.736650</td>\n",
              "      <td>3.453380</td>\n",
              "      <td>106.736650</td>\n",
              "    </tr>\n",
              "    <tr>\n",
              "      <th>std</th>\n",
              "      <td>199.763947</td>\n",
              "      <td>29619.544418</td>\n",
              "      <td>2043.449403</td>\n",
              "      <td>199.763947</td>\n",
              "      <td>2043.449403</td>\n",
              "      <td>3.694805</td>\n",
              "      <td>4.393894</td>\n",
              "      <td>3.694805</td>\n",
              "    </tr>\n",
              "    <tr>\n",
              "      <th>min</th>\n",
              "      <td>1.000000</td>\n",
              "      <td>1105.000000</td>\n",
              "      <td>1001.000000</td>\n",
              "      <td>1.000000</td>\n",
              "      <td>1001.000000</td>\n",
              "      <td>101.000000</td>\n",
              "      <td>1.000000</td>\n",
              "      <td>101.000000</td>\n",
              "    </tr>\n",
              "    <tr>\n",
              "      <th>25%</th>\n",
              "      <td>127.000000</td>\n",
              "      <td>27409.000000</td>\n",
              "      <td>3393.000000</td>\n",
              "      <td>127.000000</td>\n",
              "      <td>3393.000000</td>\n",
              "      <td>104.000000</td>\n",
              "      <td>1.000000</td>\n",
              "      <td>104.000000</td>\n",
              "    </tr>\n",
              "    <tr>\n",
              "      <th>50%</th>\n",
              "      <td>253.000000</td>\n",
              "      <td>48295.000000</td>\n",
              "      <td>5577.000000</td>\n",
              "      <td>253.000000</td>\n",
              "      <td>5577.000000</td>\n",
              "      <td>107.000000</td>\n",
              "      <td>1.000000</td>\n",
              "      <td>107.000000</td>\n",
              "    </tr>\n",
              "    <tr>\n",
              "      <th>75%</th>\n",
              "      <td>376.000000</td>\n",
              "      <td>79923.000000</td>\n",
              "      <td>6829.000000</td>\n",
              "      <td>376.000000</td>\n",
              "      <td>6829.000000</td>\n",
              "      <td>110.000000</td>\n",
              "      <td>4.000000</td>\n",
              "      <td>110.000000</td>\n",
              "    </tr>\n",
              "    <tr>\n",
              "      <th>max</th>\n",
              "      <td>800.000000</td>\n",
              "      <td>99812.000000</td>\n",
              "      <td>8147.000000</td>\n",
              "      <td>800.000000</td>\n",
              "      <td>8147.000000</td>\n",
              "      <td>114.000000</td>\n",
              "      <td>20.000000</td>\n",
              "      <td>114.000000</td>\n",
              "    </tr>\n",
              "  </tbody>\n",
              "</table>\n",
              "</div>\n",
              "      <button class=\"colab-df-convert\" onclick=\"convertToInteractive('df-a9a589f7-8a69-4c62-8f28-8dfa3856acd9')\"\n",
              "              title=\"Convert this dataframe to an interactive table.\"\n",
              "              style=\"display:none;\">\n",
              "        \n",
              "  <svg xmlns=\"http://www.w3.org/2000/svg\" height=\"24px\"viewBox=\"0 0 24 24\"\n",
              "       width=\"24px\">\n",
              "    <path d=\"M0 0h24v24H0V0z\" fill=\"none\"/>\n",
              "    <path d=\"M18.56 5.44l.94 2.06.94-2.06 2.06-.94-2.06-.94-.94-2.06-.94 2.06-2.06.94zm-11 1L8.5 8.5l.94-2.06 2.06-.94-2.06-.94L8.5 2.5l-.94 2.06-2.06.94zm10 10l.94 2.06.94-2.06 2.06-.94-2.06-.94-.94-2.06-.94 2.06-2.06.94z\"/><path d=\"M17.41 7.96l-1.37-1.37c-.4-.4-.92-.59-1.43-.59-.52 0-1.04.2-1.43.59L10.3 9.45l-7.72 7.72c-.78.78-.78 2.05 0 2.83L4 21.41c.39.39.9.59 1.41.59.51 0 1.02-.2 1.41-.59l7.78-7.78 2.81-2.81c.8-.78.8-2.07 0-2.86zM5.41 20L4 18.59l7.72-7.72 1.47 1.35L5.41 20z\"/>\n",
              "  </svg>\n",
              "      </button>\n",
              "      \n",
              "  <style>\n",
              "    .colab-df-container {\n",
              "      display:flex;\n",
              "      flex-wrap:wrap;\n",
              "      gap: 12px;\n",
              "    }\n",
              "\n",
              "    .colab-df-convert {\n",
              "      background-color: #E8F0FE;\n",
              "      border: none;\n",
              "      border-radius: 50%;\n",
              "      cursor: pointer;\n",
              "      display: none;\n",
              "      fill: #1967D2;\n",
              "      height: 32px;\n",
              "      padding: 0 0 0 0;\n",
              "      width: 32px;\n",
              "    }\n",
              "\n",
              "    .colab-df-convert:hover {\n",
              "      background-color: #E2EBFA;\n",
              "      box-shadow: 0px 1px 2px rgba(60, 64, 67, 0.3), 0px 1px 3px 1px rgba(60, 64, 67, 0.15);\n",
              "      fill: #174EA6;\n",
              "    }\n",
              "\n",
              "    [theme=dark] .colab-df-convert {\n",
              "      background-color: #3B4455;\n",
              "      fill: #D2E3FC;\n",
              "    }\n",
              "\n",
              "    [theme=dark] .colab-df-convert:hover {\n",
              "      background-color: #434B5C;\n",
              "      box-shadow: 0px 1px 3px 1px rgba(0, 0, 0, 0.15);\n",
              "      filter: drop-shadow(0px 1px 2px rgba(0, 0, 0, 0.3));\n",
              "      fill: #FFFFFF;\n",
              "    }\n",
              "  </style>\n",
              "\n",
              "      <script>\n",
              "        const buttonEl =\n",
              "          document.querySelector('#df-a9a589f7-8a69-4c62-8f28-8dfa3856acd9 button.colab-df-convert');\n",
              "        buttonEl.style.display =\n",
              "          google.colab.kernel.accessAllowed ? 'block' : 'none';\n",
              "\n",
              "        async function convertToInteractive(key) {\n",
              "          const element = document.querySelector('#df-a9a589f7-8a69-4c62-8f28-8dfa3856acd9');\n",
              "          const dataTable =\n",
              "            await google.colab.kernel.invokeFunction('convertToInteractive',\n",
              "                                                     [key], {});\n",
              "          if (!dataTable) return;\n",
              "\n",
              "          const docLinkHtml = 'Like what you see? Visit the ' +\n",
              "            '<a target=\"_blank\" href=https://colab.research.google.com/notebooks/data_table.ipynb>data table notebook</a>'\n",
              "            + ' to learn more about interactive tables.';\n",
              "          element.innerHTML = '';\n",
              "          dataTable['output_type'] = 'display_data';\n",
              "          await google.colab.output.renderOutput(dataTable, element);\n",
              "          const docLink = document.createElement('div');\n",
              "          docLink.innerHTML = docLinkHtml;\n",
              "          element.appendChild(docLink);\n",
              "        }\n",
              "      </script>\n",
              "    </div>\n",
              "  </div>\n",
              "  "
            ]
          },
          "metadata": {},
          "execution_count": 6
        }
      ]
    },
    {
      "cell_type": "code",
      "source": [
        "dfnull = df.notnull()\n",
        "print(dfnull)"
      ],
      "metadata": {
        "colab": {
          "base_uri": "https://localhost:8080/"
        },
        "id": "ln18xos_cMV2",
        "outputId": "c47c6934-cbb8-4aec-b8a2-332d762d5007"
      },
      "execution_count": 10,
      "outputs": [
        {
          "output_type": "stream",
          "name": "stdout",
          "text": [
            "      customer_id  customer_name  address_line_1  city  state_province  \\\n",
            "0            True           True            True  True            True   \n",
            "1            True           True            True  True            True   \n",
            "2            True           True            True  True            True   \n",
            "3            True           True            True  True            True   \n",
            "4            True           True            True  True            True   \n",
            "...           ...            ...             ...   ...             ...   \n",
            "9564         True           True            True  True            True   \n",
            "9565         True           True            True  True            True   \n",
            "9566         True           True            True  True            True   \n",
            "9567         True           True            True  True            True   \n",
            "9568         True           True            True  True            True   \n",
            "\n",
            "      postal_code  order_id  order_date  customer_id.1  order_id.1  \\\n",
            "0            True      True        True           True        True   \n",
            "1            True      True        True           True        True   \n",
            "2            True      True        True           True        True   \n",
            "3            True      True        True           True        True   \n",
            "4            True      True        True           True        True   \n",
            "...           ...       ...         ...            ...         ...   \n",
            "9564        False      True        True           True        True   \n",
            "9565         True      True        True           True        True   \n",
            "9566         True      True        True           True        True   \n",
            "9567         True      True        True           True        True   \n",
            "9568         True      True        True           True        True   \n",
            "\n",
            "      product_id  quantity  product_id.1  product_name  product_price  \\\n",
            "0           True      True          True          True           True   \n",
            "1           True      True          True          True           True   \n",
            "2           True      True          True          True           True   \n",
            "3           True      True          True          True           True   \n",
            "4           True      True          True          True           True   \n",
            "...          ...       ...           ...           ...            ...   \n",
            "9564        True      True          True          True           True   \n",
            "9565        True      True          True          True           True   \n",
            "9566        True      True          True          True           True   \n",
            "9567        True      True          True          True           True   \n",
            "9568        True      True          True          True           True   \n",
            "\n",
            "      total_amount  order_year_month  order_month  \n",
            "0             True              True         True  \n",
            "1             True              True         True  \n",
            "2             True              True         True  \n",
            "3             True              True         True  \n",
            "4             True              True         True  \n",
            "...            ...               ...          ...  \n",
            "9564          True              True         True  \n",
            "9565          True              True         True  \n",
            "9566          True              True         True  \n",
            "9567          True              True         True  \n",
            "9568          True              True         True  \n",
            "\n",
            "[9569 rows x 18 columns]\n"
          ]
        }
      ]
    },
    {
      "cell_type": "code",
      "source": [
        "df['total_amount'] = df['total_amount'].str.replace(',', '')\n",
        "df['total_amount'] = df['total_amount'].str.replace('$', '')\n",
        "df['total_amount']\n",
        "df['total_amount'].astype('float')"
      ],
      "metadata": {
        "colab": {
          "base_uri": "https://localhost:8080/"
        },
        "id": "Hg8fzK4XhHuz",
        "outputId": "b2ac5e80-1cd4-4524-dbda-39a479ce2024"
      },
      "execution_count": 17,
      "outputs": [
        {
          "output_type": "stream",
          "name": "stderr",
          "text": [
            "<ipython-input-17-282d2781b402>:2: FutureWarning: The default value of regex will change from True to False in a future version. In addition, single character regular expressions will *not* be treated as literal strings when regex=True.\n",
            "  df['total_amount'] = df['total_amount'].str.replace('$', '')\n"
          ]
        },
        {
          "output_type": "execute_result",
          "data": {
            "text/plain": [
              "0         5.97\n",
              "1       171.96\n",
              "2        19.95\n",
              "3        15.92\n",
              "4        27.93\n",
              "         ...  \n",
              "9564    249.44\n",
              "9565    749.99\n",
              "9566    329.99\n",
              "9567     31.18\n",
              "9568     77.95\n",
              "Name: total_amount, Length: 9569, dtype: float64"
            ]
          },
          "metadata": {},
          "execution_count": 17
        }
      ]
    },
    {
      "cell_type": "code",
      "source": [
        "df.groupby('state_province')['total_amount'].sum()"
      ],
      "metadata": {
        "colab": {
          "base_uri": "https://localhost:8080/"
        },
        "id": "6YB9ye-LhuOe",
        "outputId": "ead37f28-1758-4b1e-d351-e4c8772523df"
      },
      "execution_count": 19,
      "outputs": [
        {
          "output_type": "execute_result",
          "data": {
            "text/plain": [
              "state_province\n",
              "AK                           1.99329.99329.99171.96988.7285.98257.9455.9974...\n",
              "AL                           171.96749.9985.98485.007.98485.009.9527.93329....\n",
              "AR                           171.9623.94329.99485.00988.72988.7285.98988.72...\n",
              "AZ                           749.99485.001977.4485.9859.993.98749.99988.721...\n",
              "Alabama                      988.7285.98988.7239.90988.72694.97485.00167.97...\n",
              "                                                   ...                        \n",
              "WY                           7.96485.0015.92749.9915.92329.99329.99485.0032...\n",
              "Washington                   55.99485.0085.9839.8015.92171.961977.447.96485...\n",
              "West Virginia                55.99694.97694.9729.85988.7213.93485.00694.977...\n",
              "Wisconsin                    7.96485.0085.981977.447.989.9859.9984.83124.72...\n",
              "Wyoming                                                 71.8285.98749.99749.99\n",
              "Name: total_amount, Length: 92, dtype: object"
            ]
          },
          "metadata": {},
          "execution_count": 19
        }
      ]
    },
    {
      "cell_type": "code",
      "source": [
        "## Clean up the data\n",
        "Did you notice anything unusual about the \"house\" amounts? \n",
        "\n",
        "How about the handset price and income?\n",
        "\n",
        "Clean up the data in a  new datafram named \"df_clean\"\n"
      ],
      "metadata": {
        "id": "BtxOWvFlKzgE"
      },
      "execution_count": null,
      "outputs": []
    },
    {
      "cell_type": "code",
      "metadata": {
        "id": "7KXLvMcBK8Za"
      },
      "source": [
        "#delete rows with outlier data; put it in a new dataframe\n",
        "df_clean = df[(df['house'] > 0) & (df['income'] > 0) & (df['handset_price'] < 1000)]\n",
        "\n",
        "#delete any rows with missing values in the clean dataframe\n",
        "df_clean = df_clean.dropna() \n",
        "\n",
        "df_clean.describe()"
      ],
      "execution_count": null,
      "outputs": []
    },
    {
      "cell_type": "markdown",
      "metadata": {
        "id": "Zp7wGDqJ4iuL"
      },
      "source": [
        "# Standardize attributes\n",
        "\n",
        "- Convert the \"college\" and \"considering_change_of_plan\" attributes to 0 or 1\n",
        "- Convert non-numeric attributes to numeric scale of 1-3\n"
      ]
    },
    {
      "cell_type": "code",
      "source": [
        "#Get distinct values\n",
        "df_clean['college'].unique() "
      ],
      "metadata": {
        "id": "xNDR1xg5dVzm"
      },
      "execution_count": null,
      "outputs": []
    },
    {
      "cell_type": "code",
      "source": [
        "df_clean['reported_satisfaction'] .unique()"
      ],
      "metadata": {
        "id": "cw6i_45td0JC"
      },
      "execution_count": null,
      "outputs": []
    },
    {
      "cell_type": "code",
      "source": [
        "df_clean['reported_usage_level'].unique()"
      ],
      "metadata": {
        "id": "YhFAu2W4dz_6"
      },
      "execution_count": null,
      "outputs": []
    },
    {
      "cell_type": "code",
      "source": [
        "df_clean['considering_change_of_plan'].unique()"
      ],
      "metadata": {
        "id": "rmJbiN8rdzxJ"
      },
      "execution_count": null,
      "outputs": []
    },
    {
      "cell_type": "code",
      "metadata": {
        "id": "gvMekcKg4y5X"
      },
      "source": [
        "df_clean.loc[df_clean['college'] == 'one', 'college'] = \"1\" \n",
        "df_clean.loc[df_clean['college'] == 'zero', 'college'] = \"0\"\n",
        "df_clean.loc[df_clean['reported_satisfaction'] == 'low', 'reported_satisfaction'] = \"1\"\n",
        "df_clean.loc[df_clean['reported_satisfaction'] == 'avg', 'reported_satisfaction'] = \"2\"\n",
        "df_clean.loc[df_clean['reported_satisfaction'] == 'high', 'reported_satisfaction'] = \"3\"\n",
        "df_clean.loc[df_clean['reported_usage_level'] == 'low', 'reported_usage_level'] = \"1\"\n",
        "df_clean.loc[df_clean['reported_usage_level'] == 'avg', 'reported_usage_level'] = \"2\"\n",
        "df_clean.loc[df_clean['reported_usage_level'] == 'high', 'reported_usage_level'] = \"3\"\n",
        "df_clean.loc[df_clean['considering_change_of_plan'] == 'yes', 'considering_change_of_plan'] = \"1\"\n",
        "df_clean.loc[df_clean['considering_change_of_plan'] == 'no', 'considering_change_of_plan'] = \"0\"\n",
        "df_clean.loc[df_clean['considering_change_of_plan'] == 'maybe', 'considering_change_of_plan'] = \"0.5\"\n",
        "\n",
        "df_clean['college'] = df_clean['college'].astype('int') \n",
        "df_clean['reported_satisfaction'] = df_clean['reported_satisfaction'].astype('int') \n",
        "df_clean['reported_usage_level'] = df_clean['reported_usage_level'].astype('int') \n",
        "df_clean['considering_change_of_plan'] = df_clean['considering_change_of_plan'].astype('float') \n",
        "\n",
        "df_clean.head(10) "
      ],
      "execution_count": null,
      "outputs": []
    },
    {
      "cell_type": "markdown",
      "metadata": {
        "id": "AuB0G9gJt7gn"
      },
      "source": [
        "# Convert attributes to factors\n",
        "\n",
        "- Leave\n",
        "- College\n",
        "- Reported satisfaction\n",
        "- Reported usage level\n",
        "- Considering change of plan"
      ]
    },
    {
      "cell_type": "code",
      "metadata": {
        "id": "inCqTVMDt6ex"
      },
      "source": [
        "#Method #1\n",
        "#df_clean['leave'] = pd.Categorical(df_clean['leave'])\n",
        "\n",
        "#Method #2\n",
        "df_clean['leave'] = df_clean['leave'].astype('category')\n",
        "df_clean['college'] = df_clean['college'].astype('category')\n",
        "df_clean['reported_satisfaction'] = df_clean['reported_satisfaction'].astype('category')\n",
        "df_clean['reported_usage_level'] = df_clean['reported_usage_level'].astype('category')\n",
        "df_clean['considering_change_of_plan'] = df_clean['considering_change_of_plan'].astype('category')\n",
        "\n",
        "df_clean.info()"
      ],
      "execution_count": null,
      "outputs": []
    },
    {
      "cell_type": "markdown",
      "metadata": {
        "id": "uathUi6xfDPf"
      },
      "source": [
        "## Calculate distribution of the outcome  \n",
        "What is the proportion of people who churned?\n",
        "\n",
        "Why should we care about this proportion?\n",
        "\n",
        "1. An important step in EDA is to understand the distribution of the target variable.\n",
        "\n",
        "2. The majority class in the target variable will serve as an important benchmark for model performance. If we used what we'll call a \"majority class classifier\"---this consists in always predicting the majority class, which in this case is `STAY`---we would be correct 1 - .49 or 51% of the time.  Another way of saying this is that majority class classifier in the MegaTelCo case would result in accuracy of .51.  \n",
        "\n",
        "Accuracy is defined as the proportion of correctly predicted labels. It is a commonly used error metric for evaluating classifier performance.\n",
        "\n",
        "Think about why a majority class model in this case would have an accuracy of .51.\n",
        "\n",
        "Whatever later model we develop should have better accuracy than this performance benchmark."
      ]
    },
    {
      "cell_type": "code",
      "metadata": {
        "id": "bC93rEgNfFNh"
      },
      "source": [
        "#Add new field with binary value for leave  \n",
        "df_clean['leave_flag'] = df_clean['leave'].str.replace('STAY','0')  \n",
        "df_clean['leave_flag'] = df_clean['leave_flag'].str.replace('LEAVE','1')\n",
        "\n",
        "#Convert to integer\n",
        "df_clean['leave_flag'] = df_clean['leave_flag'].astype('int')\n",
        "\n",
        "#Find the mean value\n",
        "df_clean['leave_flag'].mean()\n"
      ],
      "execution_count": null,
      "outputs": []
    }
  ]
}